import pandas as pd
import numpy as np
import dash
import dash_core_components as dcc
import dash_html_components as html
from dash_html_components import Br
from dash.dependencies import Input, Output
import plotly.express as px
import dash_table
from readDB import ReadMongoData as db
